{
 "cells": [
  {
   "cell_type": "code",
   "execution_count": 71,
   "metadata": {},
   "outputs": [],
   "source": [
    "import numpy as np\n",
    "import cv2 as cv\n",
    "import time"
   ]
  },
  {
   "cell_type": "code",
   "execution_count": 57,
   "metadata": {},
   "outputs": [],
   "source": [
    "from keras.models import load_model\n",
    "model = load_model('my_model.h5')"
   ]
  },
  {
   "cell_type": "code",
   "execution_count": 21,
   "metadata": {},
   "outputs": [],
   "source": [
    "def getH():\n",
    "    return cap.get(cv.CAP_PROP_FRAME_HEIGHT)\n",
    "def getW():\n",
    "    return cap.get(cv.CAP_PROP_FRAME_WIDTH)\n",
    "def setH(val):\n",
    "    cap.set(cv.CAP_PROP_FRAME_HEIGHT,val)\n",
    "    return getH()\n",
    "def setW(val):\n",
    "    cap.set(cv.CAP_PROP_FRAME_WIDTH,val)\n",
    "    return getW()"
   ]
  },
  {
   "cell_type": "code",
   "execution_count": 155,
   "metadata": {},
   "outputs": [],
   "source": [
    "def ka(interval=None):\n",
    "    while(True):\n",
    "        # Capture frame-by-frame, shape of (480, 640, 3)\n",
    "        ret, frame = cap.read()\n",
    "        # ROI\n",
    "        frame = frame[:480,140:500]\n",
    "        # resize\n",
    "        frame = cv.resize(frame,(240,320))\n",
    "        # predict\n",
    "        y = model.predict(np.expand_dims(frame, axis=0))\n",
    "        img = cv.putText(frame, str(float(y)), (30,150), cv.FONT_HERSHEY_SIMPLEX, .8, (0,255,255),2)\n",
    "        # Display the resulting frame\n",
    "        cv.imshow('frame',img)\n",
    "        if cv.waitKey(1) & 0xFF == ord('q'):\n",
    "            break\n",
    "        if interval:\n",
    "            time.sleep(interval)\n",
    "    # When everything done, release the capture\n",
    "    cv.destroyAllWindows()"
   ]
  },
  {
   "cell_type": "code",
   "execution_count": 157,
   "metadata": {},
   "outputs": [
    {
     "ename": "SyntaxError",
     "evalue": "invalid syntax (<ipython-input-157-319906a355dd>, line 1)",
     "output_type": "error",
     "traceback": [
      "\u001b[1;36m  File \u001b[1;32m\"<ipython-input-157-319906a355dd>\"\u001b[1;36m, line \u001b[1;32m1\u001b[0m\n\u001b[1;33m    if __name__ = '__main__':\u001b[0m\n\u001b[1;37m                ^\u001b[0m\n\u001b[1;31mSyntaxError\u001b[0m\u001b[1;31m:\u001b[0m invalid syntax\n"
     ]
    }
   ],
   "source": [
    "if __name__ = '__main__':\n",
    "    cap = cv.VideoCapture(0)\n",
    "    ka()"
   ]
  },
  {
   "cell_type": "code",
   "execution_count": null,
   "metadata": {},
   "outputs": [],
   "source": []
  }
 ],
 "metadata": {
  "kernelspec": {
   "display_name": "Python 3",
   "language": "python",
   "name": "python3"
  },
  "language_info": {
   "codemirror_mode": {
    "name": "ipython",
    "version": 3
   },
   "file_extension": ".py",
   "mimetype": "text/x-python",
   "name": "python",
   "nbconvert_exporter": "python",
   "pygments_lexer": "ipython3",
   "version": "3.6.4"
  }
 },
 "nbformat": 4,
 "nbformat_minor": 2
}
