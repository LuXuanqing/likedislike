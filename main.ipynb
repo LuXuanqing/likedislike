{
 "cells": [
  {
   "cell_type": "code",
   "execution_count": 1,
   "metadata": {},
   "outputs": [],
   "source": [
    "import numpy as np\n",
    "import cv2 as cv\n",
    "import time"
   ]
  },
  {
   "cell_type": "code",
   "execution_count": 2,
   "metadata": {},
   "outputs": [
    {
     "name": "stderr",
     "output_type": "stream",
     "text": [
      "C:\\Users\\admin\\Anaconda3\\lib\\site-packages\\h5py\\__init__.py:34: FutureWarning: Conversion of the second argument of issubdtype from `float` to `np.floating` is deprecated. In future, it will be treated as `np.float64 == np.dtype(float).type`.\n",
      "  from ._conv import register_converters as _register_converters\n",
      "Using TensorFlow backend.\n"
     ]
    }
   ],
   "source": [
    "from keras.models import load_model\n",
    "model = load_model('my_model.h5')"
   ]
  },
  {
   "cell_type": "code",
   "execution_count": 3,
   "metadata": {},
   "outputs": [],
   "source": [
    "def getH():\n",
    "    return cap.get(cv.CAP_PROP_FRAME_HEIGHT)\n",
    "def getW():\n",
    "    return cap.get(cv.CAP_PROP_FRAME_WIDTH)\n",
    "def setH(val):\n",
    "    cap.set(cv.CAP_PROP_FRAME_HEIGHT,val)\n",
    "    return getH()\n",
    "def setW(val):\n",
    "    cap.set(cv.CAP_PROP_FRAME_WIDTH,val)\n",
    "    return getW()"
   ]
  },
  {
   "cell_type": "code",
   "execution_count": 9,
   "metadata": {},
   "outputs": [],
   "source": [
    "def ka(interval=None):    \n",
    "    while(True):\n",
    "        # Capture frame-by-frame, shape of (480, 640, 3)\n",
    "        ret, frame = cap.read()\n",
    "        # ROI\n",
    "        frame = frame[:480,140:500]\n",
    "        # resize\n",
    "        frame = cv.resize(frame,(240,320))\n",
    "        # predict\n",
    "        x = np.expand_dims(cv.cvtColor(frame, cv.COLOR_BGR2RGB), axis=0)\n",
    "        y = model.predict(x)\n",
    "        # print result onto the image\n",
    "        img = cv.putText(frame, str(float(y)), (30,150), cv.FONT_HERSHEY_SIMPLEX, .8, (0,255,255),2)\n",
    "        # Display the resulting frame\n",
    "        cv.imshow('frame',img)\n",
    "        if cv.waitKey(1) & 0xFF == ord('q'):\n",
    "            break\n",
    "        if interval:\n",
    "            time.sleep(interval)\n",
    "    # When everything done, release the capture\n",
    "    cv.destroyAllWindows()"
   ]
  },
  {
   "cell_type": "code",
   "execution_count": 8,
   "metadata": {},
   "outputs": [],
   "source": [
    "cap = cv.VideoCapture(0)"
   ]
  },
  {
   "cell_type": "code",
   "execution_count": 10,
   "metadata": {},
   "outputs": [],
   "source": [
    "ka()"
   ]
  },
  {
   "cell_type": "code",
   "execution_count": 11,
   "metadata": {},
   "outputs": [],
   "source": [
    "cap.release()"
   ]
  },
  {
   "cell_type": "code",
   "execution_count": 13,
   "metadata": {},
   "outputs": [
    {
     "data": {
      "text/plain": [
       "0.0"
      ]
     },
     "execution_count": 13,
     "metadata": {},
     "output_type": "execute_result"
    }
   ],
   "source": [
    "getH()"
   ]
  }
 ],
 "metadata": {
  "kernelspec": {
   "display_name": "Python 3",
   "language": "python",
   "name": "python3"
  },
  "language_info": {
   "codemirror_mode": {
    "name": "ipython",
    "version": 3
   },
   "file_extension": ".py",
   "mimetype": "text/x-python",
   "name": "python",
   "nbconvert_exporter": "python",
   "pygments_lexer": "ipython3",
   "version": "3.6.4"
  }
 },
 "nbformat": 4,
 "nbformat_minor": 2
}
