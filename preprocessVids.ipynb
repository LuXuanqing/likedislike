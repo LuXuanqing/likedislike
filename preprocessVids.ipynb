{
 "cells": [
  {
   "cell_type": "code",
   "execution_count": 1,
   "metadata": {},
   "outputs": [],
   "source": [
    "import numpy as np\n",
    "import imageio\n",
    "from PIL import Image\n",
    "import os"
   ]
  },
  {
   "cell_type": "markdown",
   "metadata": {},
   "source": [
    "输入的数据：\n",
    "- 视频(640x480)若干个\n",
    "- 每一帧作为一个样本\n",
    "- 同一个视频中的所有帧都是同一个标签"
   ]
  },
  {
   "cell_type": "code",
   "execution_count": 2,
   "metadata": {},
   "outputs": [
    {
     "name": "stdout",
     "output_type": "stream",
     "text": [
      "总共有4个视频文件\n"
     ]
    }
   ],
   "source": [
    "# 需要处理的视频及其对应标签\n",
    "dir = 'video'\n",
    "files = ['like_lh.mp4', 'like_rh.mp4', 'dislike_lh.mp4', 'dislike_rh.mp4']\n",
    "file_labels = [1, 1, 0, 0]\n",
    "nfile = len(files)\n",
    "print('总共有{}个视频文件'.format(nfile))"
   ]
  },
  {
   "cell_type": "markdown",
   "metadata": {},
   "source": [
    "最终需要得到的数据结果：\n",
    "- images: (None, 320, 240, 3)\n",
    "- labels: (None, )\n",
    "\n",
    "需要**打乱顺序**且保持image与label对应，然后存入到一个.npz文件中"
   ]
  },
  {
   "cell_type": "code",
   "execution_count": 3,
   "metadata": {},
   "outputs": [],
   "source": [
    "def cvtVid2arr(filepath, targetsize=(320,240)):\n",
    "    '''\n",
    "    load a video into numpy.ndarray\n",
    "    \n",
    "    Arguments\n",
    "    filepath: string\n",
    "    size: tuple (int, int)\n",
    "    \n",
    "    Returns\n",
    "    a np.ndarray of (None, height, width, 3)    \n",
    "    '''\n",
    "    HEIGHT, WIDTH = targetsize\n",
    "    images = []\n",
    "    with imageio.get_reader(filepath) as reader:\n",
    "        for _, im in enumerate(reader):\n",
    "            #把imageio的图片对象转成PIL.Image的对象\n",
    "            im = Image.fromarray(im)\n",
    "            #缩小尺寸\n",
    "            im = im.resize((WIDTH, HEIGHT))\n",
    "            images.append(np.array(im))\n",
    "    return np.array(images)"
   ]
  },
  {
   "cell_type": "code",
   "execution_count": 4,
   "metadata": {},
   "outputs": [],
   "source": [
    "def prepVid(filepath, label, targetsize=(320,240)):\n",
    "    '''\n",
    "    load a video and its label into np.ndarray\n",
    "    \n",
    "    Arguments\n",
    "    label: int\n",
    "    \n",
    "    Returns\n",
    "    images: np.ndarray (nfrarme, HEIGHT, WIDTH, 3)\n",
    "    labels: np.ndarray (nframe,)\n",
    "    '''\n",
    "    images = cvtVid2arr(filepath, targetsize)\n",
    "    nframe,_,_,_ = images.shape\n",
    "    labels = np.ones(nframe, dtype='int8') * label\n",
    "    return images, labels"
   ]
  },
  {
   "cell_type": "code",
   "execution_count": 5,
   "metadata": {},
   "outputs": [],
   "source": [
    "def prepAll(dir, files, file_labels, targetsize):\n",
    "    assert len(files) == len(file_labels)\n",
    "    images = []\n",
    "    labels = []\n",
    "    for i in range(len(files)):\n",
    "        path = os.path.join(dir,files[i])\n",
    "        imgs, lbs = prepVid(path, file_labels[i])\n",
    "        images.append(imgs)\n",
    "        labels.append(lbs)\n",
    "    images = np.concatenate(images)\n",
    "    labels = np.concatenate(labels)\n",
    "    return images, labels"
   ]
  },
  {
   "cell_type": "code",
   "execution_count": 6,
   "metadata": {},
   "outputs": [],
   "source": [
    "images, labels = prepAll(dir, files, file_labels, (320,240))"
   ]
  },
  {
   "cell_type": "code",
   "execution_count": 7,
   "metadata": {},
   "outputs": [
    {
     "data": {
      "text/plain": [
       "(1458, 320, 240, 3)"
      ]
     },
     "execution_count": 7,
     "metadata": {},
     "output_type": "execute_result"
    }
   ],
   "source": [
    "images.shape"
   ]
  },
  {
   "cell_type": "code",
   "execution_count": 8,
   "metadata": {},
   "outputs": [
    {
     "data": {
      "text/plain": [
       "(1458,)"
      ]
     },
     "execution_count": 8,
     "metadata": {},
     "output_type": "execute_result"
    }
   ],
   "source": [
    "labels.shape"
   ]
  },
  {
   "cell_type": "code",
   "execution_count": 9,
   "metadata": {},
   "outputs": [],
   "source": [
    "np.random.seed(42)\n",
    "np.random.shuffle(images)\n",
    "np.random.seed(42)\n",
    "np.random.shuffle(labels)"
   ]
  },
  {
   "cell_type": "code",
   "execution_count": 10,
   "metadata": {},
   "outputs": [],
   "source": [
    "np.savez('data.npz', x=images, y=labels)"
   ]
  },
  {
   "cell_type": "code",
   "execution_count": null,
   "metadata": {},
   "outputs": [],
   "source": []
  }
 ],
 "metadata": {
  "kernelspec": {
   "display_name": "Python 3",
   "language": "python",
   "name": "python3"
  },
  "language_info": {
   "codemirror_mode": {
    "name": "ipython",
    "version": 3
   },
   "file_extension": ".py",
   "mimetype": "text/x-python",
   "name": "python",
   "nbconvert_exporter": "python",
   "pygments_lexer": "ipython3",
   "version": "3.6.4"
  }
 },
 "nbformat": 4,
 "nbformat_minor": 2
}
